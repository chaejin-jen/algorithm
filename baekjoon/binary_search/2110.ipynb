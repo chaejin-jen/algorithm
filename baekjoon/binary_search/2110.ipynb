{
 "cells": [
  {
   "cell_type": "markdown",
   "metadata": {},
   "source": [
    "# 공유기 설치\n",
    "\n",
    "https://www.acmicpc.net/problem/2110"
   ]
  },
  {
   "cell_type": "code",
   "execution_count": 43,
   "metadata": {},
   "outputs": [
    {
     "name": "stdout",
     "output_type": "stream",
     "text": [
      "Overwriting ex1.txt\n"
     ]
    }
   ],
   "source": [
    "%%writefile ex1.txt\n",
    "5 3\n",
    "1\n",
    "2\n",
    "8\n",
    "4\n",
    "9"
   ]
  },
  {
   "cell_type": "code",
   "execution_count": 38,
   "metadata": {},
   "outputs": [
    {
     "name": "stdout",
     "output_type": "stream",
     "text": [
      "Overwriting ex1.txt\n"
     ]
    }
   ],
   "source": [
    "%%writefile ex1.txt\n",
    "3 2\n",
    "1\n",
    "100\n",
    "1000"
   ]
  },
  {
   "cell_type": "code",
   "execution_count": 40,
   "metadata": {},
   "outputs": [
    {
     "name": "stdout",
     "output_type": "stream",
     "text": [
      "Overwriting ex1.txt\n"
     ]
    }
   ],
   "source": [
    "%%writefile ex1.txt\n",
    "6 4\n",
    "1\n",
    "3\n",
    "4\n",
    "5\n",
    "9\n",
    "13"
   ]
  },
  {
   "cell_type": "code",
   "execution_count": 81,
   "metadata": {},
   "outputs": [
    {
     "name": "stdout",
     "output_type": "stream",
     "text": [
      "Overwriting ex1.txt\n"
     ]
    }
   ],
   "source": [
    "%%writefile ex1.txt\n",
    "3 3\n",
    "1000000000\n",
    "999999999\n",
    "0"
   ]
  },
  {
   "cell_type": "code",
   "execution_count": 87,
   "metadata": {},
   "outputs": [
    {
     "name": "stdout",
     "output_type": "stream",
     "text": [
      "1\n"
     ]
    }
   ],
   "source": [
    "def solve():\n",
    "    lines = open('ex1.txt').readlines()\n",
    "    _, C = map(int, lines[0].split())\n",
    "    houses = sorted([*map(int, lines[1:])])\n",
    "\n",
    "    start, end = 1, houses[-1] - houses[0]\n",
    "    answer = 0\n",
    "    while start <= end:\n",
    "        mid = (start + end) // 2\n",
    "        value = houses[0]\n",
    "        count = 1\n",
    "        for house in houses[1:]:\n",
    "            if house >= value + mid:\n",
    "                value = house\n",
    "                count += 1\n",
    "                if count == C:\n",
    "                    break\n",
    "        if count == C:\n",
    "            start = mid + 1\n",
    "            answer = mid\n",
    "        else:\n",
    "            end = mid - 1\n",
    "    print(answer)\n",
    "solve()"
   ]
  }
 ],
 "metadata": {
  "kernelspec": {
   "display_name": "Python 3.9.12 64-bit",
   "language": "python",
   "name": "python3"
  },
  "language_info": {
   "codemirror_mode": {
    "name": "ipython",
    "version": 3
   },
   "file_extension": ".py",
   "mimetype": "text/x-python",
   "name": "python",
   "nbconvert_exporter": "python",
   "pygments_lexer": "ipython3",
   "version": "3.9.17"
  },
  "orig_nbformat": 4,
  "vscode": {
   "interpreter": {
    "hash": "b0fa6594d8f4cbf19f97940f81e996739fb7646882a419484c72d19e05852a7e"
   }
  }
 },
 "nbformat": 4,
 "nbformat_minor": 2
}
