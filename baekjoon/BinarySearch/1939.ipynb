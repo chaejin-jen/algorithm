{
 "cells": [
  {
   "cell_type": "markdown",
   "metadata": {},
   "source": [
    "# 중량제한\n",
    "\n",
    "https://www.acmicpc.net/problem/1939"
   ]
  },
  {
   "cell_type": "code",
   "execution_count": null,
   "metadata": {},
   "outputs": [],
   "source": [
    "%%writefile ex1.txt\n",
    "3 3\n",
    "1 2 2\n",
    "3 1 3\n",
    "2 3 2\n",
    "1 3"
   ]
  },
  {
   "cell_type": "code",
   "execution_count": null,
   "metadata": {},
   "outputs": [],
   "source": [
    "%%writefile ex1.txt\n",
    "3 2\n",
    "1 2 1\n",
    "2 3 2\n",
    "1 2"
   ]
  },
  {
   "cell_type": "code",
   "execution_count": null,
   "metadata": {},
   "outputs": [],
   "source": [
    "%%writefile ex1.txt\n",
    "10000 3\n",
    "9998 9999 2\n",
    "10000 9998 3\n",
    "9999 10000 2\n",
    "9998 10000"
   ]
  },
  {
   "cell_type": "markdown",
   "metadata": {},
   "source": [
    "## 이진 탐색 + bfs 풀이\n",
    "- 이진 탐색(Binary Search)을 사용하여 주어진 그래프에서 X부터 Y까지 경로를 찾을 때, 최대로 가능한 가중치를 구함"
   ]
  },
  {
   "cell_type": "code",
   "execution_count": null,
   "metadata": {},
   "outputs": [],
   "source": [
    "from collections import deque\n",
    "n, m = map(int, input().split())\n",
    "adj = [[] for _ in range(n + 1)]\n",
    "def bfs(c):\n",
    "    queue = deque([start_node])\n",
    "    visited = [False] * (n + 1)\n",
    "    visited[start_node] = True\n",
    "    while queue:\n",
    "        x = queue.popleft()\n",
    "        for y, weight in adj[x]:\n",
    "            if not visited[y] and weight >= c:\n",
    "                visited[y] = True\n",
    "                queue.append(y)\n",
    "    return visited[end_node]\n",
    "start = 1000000000\n",
    "end = 1\n",
    "for _ in range(m):\n",
    "    x, y, weight = map(int, input().split())\n",
    "    adj[x].append((y, weight))\n",
    "    adj[y].append((x, weight))\n",
    "    start = min(start, weight)\n",
    "    end = max(end, weight)\n",
    "start_node, end_node = map(int, input().split())\n",
    "result = start\n",
    "while(start <= end):\n",
    "    mid = (start + end) // 2 # mid는 현재의 중량을 의미합니다.\n",
    "    if bfs(mid): # 이동이 가능하므로, 중량을 증가시킵니다.\n",
    "        result = mid\n",
    "        start = mid + 1\n",
    "    else: # 이동이 불가능하므로, 중량을 감소시킵니다.\n",
    "        end = mid - 1\n",
    "print(result)"
   ]
  },
  {
   "cell_type": "markdown",
   "metadata": {},
   "source": [
    "## 이진 탐색 + bfs 풀이 + 자료구조 개선\n",
    "- 딕셔너리 안에 딕셔너리\n",
    "    - 같은 경로가 여러개 있을 수 있어서, 중량이 제일 높은 경로만 냅둠"
   ]
  },
  {
   "cell_type": "code",
   "execution_count": null,
   "metadata": {},
   "outputs": [],
   "source": [
    "from collections import deque\n",
    "\n",
    "lines = open('ex1.txt').readlines()\n",
    "N, M = map(int, lines[0].split())\n",
    "graph = {i : {} for i in range(1, N + 1)}\n",
    "X, Y = map(int, lines[-1].split())\n",
    "\n",
    "def bfs(c):\n",
    "    queue = deque([X])\n",
    "    visited = [False] * (N + 1)\n",
    "    visited[X] = True\n",
    "    while queue and not visited[Y]:\n",
    "        x = queue.popleft()\n",
    "        for y, weight in graph[x].items():\n",
    "            if not visited[y] and weight >= c:\n",
    "                visited[y] = True\n",
    "                queue.append(y)\n",
    "    return visited[Y]\n",
    "\n",
    "start = 100000\n",
    "end = 1\n",
    "for line in lines[1:-1]:\n",
    "    x, y, weight = [*map(int, line.split())]\n",
    "    if y not in graph[x].keys() or weight > graph[x][y]:\n",
    "        graph[x][y] = weight\n",
    "        graph[y][x] = weight\n",
    "    start = min(start, weight)\n",
    "    end = max(end, weight)\n",
    "answer = start\n",
    "while (start <= end):\n",
    "    mid = (start + end) // 2\n",
    "    if bfs(mid):\n",
    "        answer = mid\n",
    "        start = mid + 1\n",
    "    else:\n",
    "        end = mid - 1\n",
    "\n",
    "print(answer)"
   ]
  },
  {
   "cell_type": "markdown",
   "metadata": {},
   "source": [
    "### 가독성 개선\n",
    "- 시간이 난다면..."
   ]
  },
  {
   "cell_type": "code",
   "execution_count": null,
   "metadata": {},
   "outputs": [],
   "source": [
    "from collections import deque\n",
    "\n",
    "def read_graph():\n",
    "    lines = open('ex1.txt').readlines()\n",
    "    N, M = map(int, lines[0].split())\n",
    "    graph = {i : {} for i in range(1, N + 1)}\n",
    "    X, Y = map(int, lines[-1].split())\n",
    "    start = 100000\n",
    "    end = 1\n",
    "    for line in lines[1:-1]:\n",
    "        x, y, weight = [*map(int, line.split())]\n",
    "        if y not in graph[x].keys() or weight > graph[x][y]:\n",
    "            graph[x][y] = weight\n",
    "            graph[y][x] = weight\n",
    "        start = min(start, weight)\n",
    "        end = max(end, weight)\n",
    "    return graph, X, Y, start, end\n",
    "\n",
    "def bfs(graph, X, Y, c):\n",
    "    queue = deque([X])\n",
    "    visited = [False] * (len(graph) + 1)\n",
    "    visited[X] = True\n",
    "    while queue:\n",
    "        x = queue.popleft()\n",
    "        for y, weight in graph[x].items():\n",
    "            if not visited[y] and weight >= c:\n",
    "                visited[y] = True\n",
    "                queue.append(y)\n",
    "                if y == Y:\n",
    "                    return True\n",
    "    return visited[Y]\n",
    "\n",
    "def binary_search(graph, X, Y, start, end):\n",
    "    answer = start\n",
    "    while (start <= end):\n",
    "        mid = (start + end) // 2\n",
    "        if bfs(graph, X, Y, mid):\n",
    "            answer = mid\n",
    "            start = mid + 1\n",
    "        else:\n",
    "            end = mid - 1\n",
    "    return answer\n",
    "\n",
    "if __name__ == \"__main__\":\n",
    "    graph, X, Y, start, end = read_graph()\n",
    "    answer = binary_search(graph, X, Y, start, end)\n",
    "    print(answer)"
   ]
  },
  {
   "cell_type": "markdown",
   "metadata": {},
   "source": [
    "## 알고리즘 개선\n",
    "- [rlatndhrlatndh](https://www.acmicpc.net/source/53141888)\n",
    "- Union-Find(Disjoint Set) 자료구조 / 알고리즘\n",
    "    -  루트 노드를 찾음\n",
    "- Kruskal 알고리즘 : 중량을 큰 기준으로 정렬함\n",
    "    - X와 Y가 같은 집합에 속해있으면 최소 비용 신장 트리를 완성\n"
   ]
  },
  {
   "cell_type": "code",
   "execution_count": null,
   "metadata": {},
   "outputs": [],
   "source": [
    "def find(x):\n",
    "    if parent[x] != x:\n",
    "        parent[x] = find(parent[x])\n",
    "    return parent[x]\n",
    "\n",
    "def union(a,b):\n",
    "    a = find(a)\n",
    "    b = find(b)\n",
    "    if a<b:\n",
    "        parent[b] = a\n",
    "    elif a>b:\n",
    "        parent[a] = b\n",
    "\n",
    "lines = open('ex1.txt').readlines()\n",
    "N, M = map(int, lines[0].split())\n",
    "parent = [i for i in range(N + 1)]\n",
    "graph = []\n",
    "ans = []\n",
    "for line in lines[1:-1]:\n",
    "    x, y, c = [*map(int, line.split())]\n",
    "    graph.append((x,y,c))\n",
    "graph=sorted(graph, key = lambda x:-x[2])\n",
    "X, Y = map(int, lines[-1].split())\n",
    "for x,y,c in graph:\n",
    "    if find(x) == find(y):\n",
    "        continue\n",
    "    union(x, y)\n",
    "    ans.append(c)\n",
    "    if find(X) == find(Y):\n",
    "        break\n",
    "if ans:\n",
    "    print(min(ans))\n",
    "else:\n",
    "    print(0)\n"
   ]
  },
  {
   "cell_type": "code",
   "execution_count": null,
   "metadata": {},
   "outputs": [],
   "source": []
  }
 ],
 "metadata": {
  "kernelspec": {
   "display_name": "algorithm-s4ZI-HHP",
   "language": "python",
   "name": "python3"
  },
  "language_info": {
   "codemirror_mode": {
    "name": "ipython",
    "version": 3
   },
   "file_extension": ".py",
   "mimetype": "text/x-python",
   "name": "python",
   "nbconvert_exporter": "python",
   "pygments_lexer": "ipython3",
   "version": "3.9.17"
  },
  "orig_nbformat": 4
 },
 "nbformat": 4,
 "nbformat_minor": 2
}
